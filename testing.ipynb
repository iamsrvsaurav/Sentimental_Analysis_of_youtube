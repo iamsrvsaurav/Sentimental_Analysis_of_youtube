{
 "cells": [
  {
   "cell_type": "code",
   "execution_count": 1,
   "id": "78d0cfd8",
   "metadata": {},
   "outputs": [],
   "source": [
    "from itertools import islice\n",
    "from youtube_comment_downloader import *\n",
    "def getcomments(link):\n",
    "    downloader = YoutubeCommentDownloader()\n",
    "    comments = downloader.get_comments_from_url(link, sort_by=SORT_BY_POPULAR)\n",
    "    data={'comment':[]}\n",
    "    for comment in islice(comments, 100):#enter comment count here we have use 100\n",
    "        data['comment'].append(comment[\"text\"])\n",
    "    return data"
   ]
  },
  {
   "cell_type": "code",
   "execution_count": 14,
   "id": "e6082539",
   "metadata": {},
   "outputs": [],
   "source": [
    "import keras.backend as K\n",
    "\n",
    "def f1_score(y_true, y_pred):\n",
    "  \n",
    "    # Count positive samples.\n",
    "    c1 = K.sum(K.round(K.clip(y_true * y_pred, 0, 1)))\n",
    "    c2 = K.sum(K.round(K.clip(y_pred, 0, 1)))\n",
    "    c3 = K.sum(K.round(K.clip(y_true, 0, 1)))\n",
    "\n",
    "    # If there are no true samples, fix the F1 score at 0.\n",
    "    if c3 == 0:\n",
    "        return 0.0\n",
    "\n",
    "    # How many selected items are relevant?\n",
    "    precision = c1 / (c2 + K.epsilon())\n",
    "\n",
    "    # How many relevant items are selected?\n",
    "    recall = c1 / (c3 + K.epsilon())\n",
    "\n",
    "    # Calculate f1_score\n",
    "    f1_score = 2 * (precision * recall) / (precision + recall)\n",
    "    return f1_score"
   ]
  },
  {
   "cell_type": "code",
   "execution_count": 2,
   "id": "41140242",
   "metadata": {},
   "outputs": [
    {
     "data": {
      "text/html": [
       "<div>\n",
       "<style scoped>\n",
       "    .dataframe tbody tr th:only-of-type {\n",
       "        vertical-align: middle;\n",
       "    }\n",
       "\n",
       "    .dataframe tbody tr th {\n",
       "        vertical-align: top;\n",
       "    }\n",
       "\n",
       "    .dataframe thead th {\n",
       "        text-align: right;\n",
       "    }\n",
       "</style>\n",
       "<table border=\"1\" class=\"dataframe\">\n",
       "  <thead>\n",
       "    <tr style=\"text-align: right;\">\n",
       "      <th></th>\n",
       "      <th>comment</th>\n",
       "    </tr>\n",
       "  </thead>\n",
       "  <tbody>\n",
       "    <tr>\n",
       "      <th>0</th>\n",
       "      <td>🔥 Want to master Python? Get my complete Pytho...</td>\n",
       "    </tr>\n",
       "    <tr>\n",
       "      <th>1</th>\n",
       "      <td>I'm learning because i want a better job than ...</td>\n",
       "    </tr>\n",
       "    <tr>\n",
       "      <th>2</th>\n",
       "      <td>This guy, sat for 1 hour and talked about pyth...</td>\n",
       "    </tr>\n",
       "    <tr>\n",
       "      <th>3</th>\n",
       "      <td>0:00:00 Introduction \\r\\n0:00:30 What You Can ...</td>\n",
       "    </tr>\n",
       "    <tr>\n",
       "      <th>4</th>\n",
       "      <td>Ik he won’t see this, but this was such a clea...</td>\n",
       "    </tr>\n",
       "  </tbody>\n",
       "</table>\n",
       "</div>"
      ],
      "text/plain": [
       "                                             comment\n",
       "0  🔥 Want to master Python? Get my complete Pytho...\n",
       "1  I'm learning because i want a better job than ...\n",
       "2  This guy, sat for 1 hour and talked about pyth...\n",
       "3  0:00:00 Introduction \\r\\n0:00:30 What You Can ...\n",
       "4  Ik he won’t see this, but this was such a clea..."
      ]
     },
     "execution_count": 2,
     "metadata": {},
     "output_type": "execute_result"
    }
   ],
   "source": [
    "import pandas as pd\n",
    "df = pd.DataFrame(getcomments(\"https://www.youtube.com/watch?v=kqtD5dpn9C8\"), columns=['comment'])# enter link here\n",
    "df.head()"
   ]
  },
  {
   "cell_type": "code",
   "execution_count": 3,
   "id": "5ebc2b34",
   "metadata": {},
   "outputs": [],
   "source": [
    "df.drop_duplicates(inplace=True)"
   ]
  },
  {
   "cell_type": "code",
   "execution_count": 4,
   "id": "2aa1c40f",
   "metadata": {},
   "outputs": [],
   "source": [
    "import nltk\n",
    "import pandas as pd\n",
    "from nltk.stem import PorterStemmer\n",
    "import re\n",
    "def preprocesing(comment):\n",
    "    # remove html markup\n",
    "    comment=re.sub(\"(<.*?>)\",\"\",comment)\n",
    "#     # Remove Emails\n",
    "#     comment = re.sub('\\S*@\\S*\\s?', '', comment)\n",
    "    #remove non-ascii and digits\n",
    "    comment=re.sub(\"(\\\\W|\\\\d)\",\" \",comment)\n",
    "    \n",
    "    stopwords=['this','that','and','a','we','it','to','is','of','up','need']\n",
    "    porter_stemmer=PorterStemmer()\n",
    "    words=comment.split()\n",
    "    res=[]\n",
    "    for i in range(len(words)):\n",
    "        if words[i].lower() not  in stopwords :#Stop Word Removal\n",
    "            #Lowercasing\n",
    "            res.append(words[i].lower())\n",
    "            #Stemming\n",
    "            res[-1]=porter_stemmer.stem(word=res[-1])\n",
    "    \n",
    "    return \" \".join(res)"
   ]
  },
  {
   "cell_type": "code",
   "execution_count": 5,
   "id": "8a629472",
   "metadata": {},
   "outputs": [],
   "source": [
    "df[\"final\"]=df[\"comment\"].apply(preprocesing)"
   ]
  },
  {
   "cell_type": "code",
   "execution_count": 6,
   "id": "2f100290",
   "metadata": {},
   "outputs": [],
   "source": [
    "from nltk.sentiment.vader import SentimentIntensityAnalyzer"
   ]
  },
  {
   "cell_type": "code",
   "execution_count": 7,
   "id": "7a056050",
   "metadata": {},
   "outputs": [],
   "source": [
    "def getsentiments(comment):\n",
    "    # instantiate analyzer\n",
    "    analyzer = SentimentIntensityAnalyzer()\n",
    "    if analyzer.polarity_scores(comment)['compound'] > 0.2: \n",
    "        return 1 # positive sentiment\n",
    "#     elif analyzer.polarity_scores(comment)['compound'] < -0.2:\n",
    "#         return 1 # negative sentiment\n",
    "    else:\n",
    "        return 0 # neutral sentiment"
   ]
  },
  {
   "cell_type": "code",
   "execution_count": 8,
   "id": "68946180",
   "metadata": {},
   "outputs": [
    {
     "data": {
      "text/plain": [
       "0     1\n",
       "1     1\n",
       "2     1\n",
       "3     0\n",
       "4     1\n",
       "     ..\n",
       "95    0\n",
       "96    0\n",
       "97    0\n",
       "98    1\n",
       "99    0\n",
       "Name: comment, Length: 100, dtype: int64"
      ]
     },
     "execution_count": 8,
     "metadata": {},
     "output_type": "execute_result"
    }
   ],
   "source": [
    "true_labels=df[\"comment\"].apply(getsentiments)\n",
    "true_labels"
   ]
  },
  {
   "cell_type": "code",
   "execution_count": 9,
   "id": "553eeaca",
   "metadata": {},
   "outputs": [],
   "source": [
    "from tensorflow.keras.utils import to_categorical\n",
    "true_labels = to_categorical(true_labels, 2, dtype=\"float32\")"
   ]
  },
  {
   "cell_type": "code",
   "execution_count": 10,
   "id": "130b8c91",
   "metadata": {},
   "outputs": [],
   "source": [
    "from tensorflow.keras.preprocessing.text import Tokenizer\n",
    "from tensorflow.keras.preprocessing.sequence import pad_sequences\n"
   ]
  },
  {
   "cell_type": "code",
   "execution_count": 11,
   "id": "f79c585d",
   "metadata": {},
   "outputs": [
    {
     "data": {
      "text/plain": [
       "array([[  0,   0,   0, ..., 310, 311, 312],\n",
       "       [  0,   0,   0, ..., 314, 147, 315],\n",
       "       [  0,   0,   0, ...,   4, 213, 101],\n",
       "       ...,\n",
       "       [  0,   0,   0, ...,  51, 641, 642],\n",
       "       [  0,   0,   0, ...,  19,  79, 233],\n",
       "       [  0,   0,   0, ...,   8, 650, 651]])"
      ]
     },
     "execution_count": 11,
     "metadata": {},
     "output_type": "execute_result"
    }
   ],
   "source": [
    "comments =df[\"final\"].to_numpy(dtype=str)\n",
    "tokens=Tokenizer(num_words=5000)\n",
    "tokens.fit_on_texts(comments)\n",
    "seq=tokens.texts_to_sequences(comments)\n",
    "comments=pad_sequences(seq,maxlen=200)\n",
    "comments"
   ]
  },
  {
   "cell_type": "code",
   "execution_count": 12,
   "id": "cb87c4fb",
   "metadata": {},
   "outputs": [],
   "source": [
    "from tensorflow.keras.models import load_model"
   ]
  },
  {
   "cell_type": "code",
   "execution_count": 29,
   "id": "a50fb48e",
   "metadata": {},
   "outputs": [],
   "source": [
    "best_model = load_model(\"bidirectional_model.hdf5\")\n"
   ]
  },
  {
   "cell_type": "code",
   "execution_count": 20,
   "id": "9981d818",
   "metadata": {},
   "outputs": [
    {
     "name": "stdout",
     "output_type": "stream",
     "text": [
      "4/4 [==============================] - 2s 31ms/step\n"
     ]
    }
   ],
   "source": [
    "predictions =best_model.predict(comments)"
   ]
  },
  {
   "cell_type": "code",
   "execution_count": 21,
   "id": "977c20c7",
   "metadata": {},
   "outputs": [
    {
     "data": {
      "text/plain": [
       "array([[9.16766599e-02, 1.68711469e-02, 8.91452193e-01],\n",
       "       [1.80528057e-03, 5.52051642e-04, 9.97642696e-01],\n",
       "       [1.70026463e-03, 5.48138865e-04, 9.97751653e-01],\n",
       "       [1.90285116e-03, 5.79775078e-04, 9.97517347e-01],\n",
       "       [2.04752828e-03, 5.48333221e-04, 9.97404158e-01],\n",
       "       [2.38609547e-03, 5.38451248e-04, 9.97075438e-01],\n",
       "       [1.79279852e-03, 5.65336784e-04, 9.97641921e-01],\n",
       "       [3.15367989e-03, 5.83941233e-04, 9.96262372e-01],\n",
       "       [2.20816187e-03, 5.52707934e-04, 9.97239113e-01],\n",
       "       [1.66511233e-03, 5.53363061e-04, 9.97781575e-01],\n",
       "       [2.02666922e-03, 5.51929174e-04, 9.97421384e-01],\n",
       "       [1.97712402e-03, 5.41888527e-04, 9.97481048e-01],\n",
       "       [1.82505627e-03, 5.70301258e-04, 9.97604609e-01],\n",
       "       [1.71184470e-03, 5.66577015e-04, 9.97721612e-01],\n",
       "       [1.98498461e-03, 5.47577336e-04, 9.97467399e-01],\n",
       "       [2.94146431e-03, 6.17297250e-04, 9.96441185e-01],\n",
       "       [2.30066688e-03, 5.57182822e-04, 9.97142136e-01],\n",
       "       [1.58182590e-03, 5.30820922e-04, 9.97887313e-01],\n",
       "       [4.34103236e-03, 6.37402758e-04, 9.95021582e-01],\n",
       "       [1.81023717e-01, 1.13045443e-02, 8.07671726e-01],\n",
       "       [9.77893949e-01, 1.37041165e-02, 8.40192102e-03],\n",
       "       [9.71785188e-01, 1.53719224e-02, 1.28429206e-02],\n",
       "       [1.61584299e-02, 2.35820445e-03, 9.81483400e-01],\n",
       "       [9.77893949e-01, 1.37041165e-02, 8.40192102e-03],\n",
       "       [1.62392072e-02, 2.41517136e-03, 9.81345594e-01],\n",
       "       [9.69696879e-01, 1.65021643e-02, 1.38009796e-02],\n",
       "       [9.67946231e-01, 2.08202694e-02, 1.12335235e-02],\n",
       "       [9.78373170e-01, 1.32984519e-02, 8.32842104e-03],\n",
       "       [9.77893949e-01, 1.37041165e-02, 8.40192102e-03],\n",
       "       [2.21523568e-02, 2.58084247e-03, 9.75266755e-01],\n",
       "       [2.71953315e-01, 2.53590755e-02, 7.02687681e-01],\n",
       "       [2.42257863e-02, 4.04831488e-03, 9.71725821e-01],\n",
       "       [9.77893949e-01, 1.37041165e-02, 8.40192102e-03],\n",
       "       [9.63075578e-01, 2.20686048e-02, 1.48557723e-02],\n",
       "       [9.36219156e-01, 2.79059801e-02, 3.58748212e-02],\n",
       "       [9.69930410e-01, 1.87053625e-02, 1.13642532e-02],\n",
       "       [9.70625520e-01, 2.07549259e-02, 8.61955713e-03],\n",
       "       [1.84369892e-01, 2.63725128e-02, 7.89257646e-01],\n",
       "       [5.57161048e-02, 8.33517220e-03, 9.35948730e-01],\n",
       "       [1.86884706e-03, 5.48738870e-04, 9.97582436e-01],\n",
       "       [1.68316136e-03, 5.51108387e-04, 9.97765779e-01],\n",
       "       [2.90001452e-01, 1.28344029e-01, 5.81654489e-01],\n",
       "       [1.75376632e-03, 5.58575732e-04, 9.97687697e-01],\n",
       "       [1.74041302e-03, 5.70948469e-04, 9.97688651e-01],\n",
       "       [1.74840610e-03, 5.52785525e-04, 9.97698843e-01],\n",
       "       [5.13719805e-02, 7.83657189e-03, 9.40791428e-01],\n",
       "       [2.89974036e-03, 5.99970401e-04, 9.96500254e-01],\n",
       "       [1.74172933e-03, 5.74136793e-04, 9.97684121e-01],\n",
       "       [2.07493524e-03, 5.27975790e-04, 9.97397065e-01],\n",
       "       [9.81607556e-01, 1.20413210e-02, 6.35109097e-03],\n",
       "       [2.30853469e-03, 5.36170497e-04, 9.97155309e-01],\n",
       "       [1.84002391e-03, 5.82478882e-04, 9.97577488e-01],\n",
       "       [2.11921288e-03, 5.65578463e-04, 9.97315228e-01],\n",
       "       [1.67943106e-03, 5.72849531e-04, 9.97747719e-01],\n",
       "       [9.77893949e-01, 1.37041165e-02, 8.40192102e-03],\n",
       "       [2.24475306e-03, 5.89408621e-04, 9.97165859e-01],\n",
       "       [3.94224748e-02, 2.57309596e-03, 9.58004475e-01],\n",
       "       [1.99114089e-03, 5.97073988e-04, 9.97411788e-01],\n",
       "       [9.66411233e-01, 2.19440740e-02, 1.16446726e-02],\n",
       "       [2.13413616e-03, 5.60518238e-04, 9.97305393e-01],\n",
       "       [6.48262585e-03, 7.57182366e-04, 9.92760181e-01],\n",
       "       [3.95501792e-01, 1.69249371e-01, 4.35248882e-01],\n",
       "       [9.97072458e-03, 1.28202513e-03, 9.88747299e-01],\n",
       "       [1.69043883e-03, 5.63782989e-04, 9.97745693e-01],\n",
       "       [5.52707948e-02, 8.84826947e-03, 9.35880959e-01],\n",
       "       [1.36153683e-01, 6.70160875e-02, 7.96830237e-01],\n",
       "       [4.17115865e-03, 7.75857945e-04, 9.95052993e-01],\n",
       "       [2.81303879e-02, 4.16573137e-03, 9.67703879e-01],\n",
       "       [2.18369369e-03, 5.18085435e-04, 9.97298181e-01],\n",
       "       [9.76540625e-01, 1.46943228e-02, 8.76508560e-03],\n",
       "       [2.38574389e-03, 5.69209515e-04, 9.97045100e-01],\n",
       "       [1.76954584e-03, 5.56215993e-04, 9.97674286e-01],\n",
       "       [4.30312693e-01, 1.00751715e-02, 5.59612215e-01],\n",
       "       [1.81788986e-03, 5.83627145e-04, 9.97598469e-01],\n",
       "       [1.74839678e-03, 5.45592222e-04, 9.97705936e-01],\n",
       "       [1.67752523e-03, 5.53975697e-04, 9.97768521e-01],\n",
       "       [4.27436419e-02, 3.64515418e-03, 9.53611195e-01],\n",
       "       [2.14069174e-03, 5.34948136e-04, 9.97324347e-01],\n",
       "       [1.13821596e-01, 1.11364946e-02, 8.75041842e-01],\n",
       "       [2.49288254e-03, 5.35302970e-04, 9.96971846e-01],\n",
       "       [1.84517598e-03, 5.56461280e-04, 9.97598350e-01],\n",
       "       [1.05367251e-01, 1.70019977e-02, 8.77630770e-01],\n",
       "       [7.20915869e-02, 1.01012625e-02, 9.17807162e-01],\n",
       "       [3.80032331e-01, 1.18729398e-02, 6.08094811e-01],\n",
       "       [8.36146399e-02, 7.39630265e-03, 9.08989012e-01],\n",
       "       [2.62032785e-02, 2.87933648e-03, 9.70917404e-01],\n",
       "       [1.58740908e-01, 3.38438749e-02, 8.07415187e-01],\n",
       "       [5.67476207e-04, 3.15822335e-03, 9.96274352e-01],\n",
       "       [1.78565795e-03, 5.63970068e-04, 9.97650325e-01],\n",
       "       [9.70063210e-01, 1.56281292e-02, 1.43087050e-02],\n",
       "       [2.56313533e-01, 2.19514165e-02, 7.21735060e-01],\n",
       "       [3.18663754e-02, 3.41290701e-03, 9.64720666e-01],\n",
       "       [1.64391263e-03, 5.48267504e-04, 9.97807801e-01],\n",
       "       [1.03997149e-01, 1.17719322e-02, 8.84230971e-01],\n",
       "       [1.72172312e-03, 5.62760863e-04, 9.97715473e-01],\n",
       "       [4.78727696e-03, 6.77105039e-04, 9.94535685e-01],\n",
       "       [1.66336657e-03, 5.49675548e-04, 9.97786880e-01],\n",
       "       [8.53660405e-02, 1.13680325e-02, 9.03265893e-01],\n",
       "       [2.08569667e-03, 6.20117760e-04, 9.97294128e-01],\n",
       "       [1.71251176e-03, 5.55901730e-04, 9.97731626e-01]], dtype=float32)"
      ]
     },
     "execution_count": 21,
     "metadata": {},
     "output_type": "execute_result"
    }
   ],
   "source": [
    "predictions"
   ]
  },
  {
   "cell_type": "code",
   "execution_count": 22,
   "id": "15feabbe",
   "metadata": {},
   "outputs": [
    {
     "name": "stdout",
     "output_type": "stream",
     "text": [
      "4/4 [==============================] - 2s 33ms/step - loss: 1.2789 - accuracy: 0.7400\n"
     ]
    },
    {
     "data": {
      "text/plain": [
       "[1.278875470161438, 0.7400000095367432]"
      ]
     },
     "execution_count": 22,
     "metadata": {},
     "output_type": "execute_result"
    }
   ],
   "source": [
    "best_model.evaluate(comments,true_labels)"
   ]
  },
  {
   "cell_type": "code",
   "execution_count": 17,
   "id": "3e26616c",
   "metadata": {},
   "outputs": [
    {
     "data": {
      "text/plain": [
       "array([0, 2, 2, 2, 2, 2, 2, 2, 2, 2, 2, 2, 2, 2, 2, 2, 2, 2, 2, 2, 0, 0,\n",
       "       0, 0, 0, 0, 2, 0, 0, 0, 2, 2, 2, 2, 0, 2, 2, 2, 2, 2, 0, 2, 2, 2,\n",
       "       2, 0, 2, 2, 2, 2, 2, 2, 0, 0, 2, 2, 2, 0, 2, 0, 2, 2, 2, 2, 0, 2,\n",
       "       2, 2, 2, 2, 2, 0, 2, 2, 2, 2, 2, 2, 2, 2, 2, 0, 0, 2, 2, 0, 2, 2,\n",
       "       2, 2, 2, 2, 2, 2, 2, 2, 2, 2, 2, 2], dtype=int64)"
      ]
     },
     "execution_count": 17,
     "metadata": {},
     "output_type": "execute_result"
    }
   ],
   "source": [
    "import numpy as np\n",
    "sentiment = ['Negative','Positive']\n",
    "final=np.around(predictions).argmax(axis=1)\n",
    "final"
   ]
  },
  {
   "cell_type": "code",
   "execution_count": 15,
   "id": "219a9ae5",
   "metadata": {},
   "outputs": [
    {
     "name": "stdout",
     "output_type": "stream",
     "text": [
      "4/4 [==============================] - 2s 36ms/step - loss: 1.2199 - accuracy: 0.5000 - precision: 0.5000 - recall: 0.5000 - f1_score: 0.4453\n"
     ]
    },
    {
     "data": {
      "text/plain": [
       "[1.2199214696884155, 0.5, 0.5, 0.5, 0.4453125]"
      ]
     },
     "execution_count": 15,
     "metadata": {},
     "output_type": "execute_result"
    }
   ],
   "source": [
    "load_model(\"bidirectional_model.hdf5\",custom_objects={\"f1_score\":f1_score}).evaluate(comments,true_labels)"
   ]
  },
  {
   "cell_type": "code",
   "execution_count": 16,
   "id": "5264a054",
   "metadata": {},
   "outputs": [
    {
     "name": "stdout",
     "output_type": "stream",
     "text": [
      "4/4 [==============================] - 1s 45ms/step - loss: 0.7887 - accuracy: 0.5000 - precision: 0.5000 - recall: 0.5000 - f1_score: 0.4453\n"
     ]
    },
    {
     "data": {
      "text/plain": [
       "[0.7886825799942017, 0.5, 0.5, 0.5, 0.4453125]"
      ]
     },
     "execution_count": 16,
     "metadata": {},
     "output_type": "execute_result"
    }
   ],
   "source": [
    "load_model(\"bidirectionalLSTMGRU_model2.hdf5\",custom_objects={\"f1_score\":f1_score}).evaluate(comments,true_labels)"
   ]
  },
  {
   "cell_type": "code",
   "execution_count": 17,
   "id": "7c51e2b7",
   "metadata": {},
   "outputs": [
    {
     "ename": "ValueError",
     "evalue": "in user code:\n\n    File \"C:\\Users\\conec\\anaconda3\\lib\\site-packages\\keras\\engine\\training.py\", line 1727, in test_function  *\n        return step_function(self, iterator)\n    File \"C:\\Users\\conec\\anaconda3\\lib\\site-packages\\keras\\engine\\training.py\", line 1713, in step_function  **\n        outputs = model.distribute_strategy.run(run_step, args=(data,))\n    File \"C:\\Users\\conec\\anaconda3\\lib\\site-packages\\keras\\engine\\training.py\", line 1701, in run_step  **\n        outputs = model.test_step(data)\n    File \"C:\\Users\\conec\\anaconda3\\lib\\site-packages\\keras\\engine\\training.py\", line 1667, in test_step\n        self.compute_loss(x, y, y_pred, sample_weight)\n    File \"C:\\Users\\conec\\anaconda3\\lib\\site-packages\\keras\\engine\\training.py\", line 1052, in compute_loss\n        return self.compiled_loss(\n    File \"C:\\Users\\conec\\anaconda3\\lib\\site-packages\\keras\\engine\\compile_utils.py\", line 265, in __call__\n        loss_value = loss_obj(y_t, y_p, sample_weight=sw)\n    File \"C:\\Users\\conec\\anaconda3\\lib\\site-packages\\keras\\losses.py\", line 152, in __call__\n        losses = call_fn(y_true, y_pred)\n    File \"C:\\Users\\conec\\anaconda3\\lib\\site-packages\\keras\\losses.py\", line 272, in call  **\n        return ag_fn(y_true, y_pred, **self._fn_kwargs)\n    File \"C:\\Users\\conec\\anaconda3\\lib\\site-packages\\keras\\losses.py\", line 1990, in categorical_crossentropy\n        return backend.categorical_crossentropy(\n    File \"C:\\Users\\conec\\anaconda3\\lib\\site-packages\\keras\\backend.py\", line 5529, in categorical_crossentropy\n        target.shape.assert_is_compatible_with(output.shape)\n\n    ValueError: Shapes (None, 2) and (None, 3) are incompatible\n",
     "output_type": "error",
     "traceback": [
      "\u001b[1;31m---------------------------------------------------------------------------\u001b[0m",
      "\u001b[1;31mValueError\u001b[0m                                Traceback (most recent call last)",
      "\u001b[1;32m~\\AppData\\Local\\Temp\\ipykernel_12788\\905843513.py\u001b[0m in \u001b[0;36m<module>\u001b[1;34m\u001b[0m\n\u001b[1;32m----> 1\u001b[1;33m \u001b[0mload_model\u001b[0m\u001b[1;33m(\u001b[0m\u001b[1;34m\"bidirectionalLSTMGRU_model.hdf5\"\u001b[0m\u001b[1;33m,\u001b[0m\u001b[0mcustom_objects\u001b[0m\u001b[1;33m=\u001b[0m\u001b[1;33m{\u001b[0m\u001b[1;34m\"f1_score\"\u001b[0m\u001b[1;33m:\u001b[0m\u001b[0mf1_score\u001b[0m\u001b[1;33m}\u001b[0m\u001b[1;33m)\u001b[0m\u001b[1;33m.\u001b[0m\u001b[0mevaluate\u001b[0m\u001b[1;33m(\u001b[0m\u001b[0mcomments\u001b[0m\u001b[1;33m,\u001b[0m\u001b[0mtrue_labels\u001b[0m\u001b[1;33m)\u001b[0m\u001b[1;33m\u001b[0m\u001b[1;33m\u001b[0m\u001b[0m\n\u001b[0m",
      "\u001b[1;32m~\\anaconda3\\lib\\site-packages\\keras\\utils\\traceback_utils.py\u001b[0m in \u001b[0;36merror_handler\u001b[1;34m(*args, **kwargs)\u001b[0m\n\u001b[0;32m     68\u001b[0m             \u001b[1;31m# To get the full stack trace, call:\u001b[0m\u001b[1;33m\u001b[0m\u001b[1;33m\u001b[0m\u001b[0m\n\u001b[0;32m     69\u001b[0m             \u001b[1;31m# `tf.debugging.disable_traceback_filtering()`\u001b[0m\u001b[1;33m\u001b[0m\u001b[1;33m\u001b[0m\u001b[0m\n\u001b[1;32m---> 70\u001b[1;33m             \u001b[1;32mraise\u001b[0m \u001b[0me\u001b[0m\u001b[1;33m.\u001b[0m\u001b[0mwith_traceback\u001b[0m\u001b[1;33m(\u001b[0m\u001b[0mfiltered_tb\u001b[0m\u001b[1;33m)\u001b[0m \u001b[1;32mfrom\u001b[0m \u001b[1;32mNone\u001b[0m\u001b[1;33m\u001b[0m\u001b[1;33m\u001b[0m\u001b[0m\n\u001b[0m\u001b[0;32m     71\u001b[0m         \u001b[1;32mfinally\u001b[0m\u001b[1;33m:\u001b[0m\u001b[1;33m\u001b[0m\u001b[1;33m\u001b[0m\u001b[0m\n\u001b[0;32m     72\u001b[0m             \u001b[1;32mdel\u001b[0m \u001b[0mfiltered_tb\u001b[0m\u001b[1;33m\u001b[0m\u001b[1;33m\u001b[0m\u001b[0m\n",
      "\u001b[1;32m~\\anaconda3\\lib\\site-packages\\keras\\engine\\training.py\u001b[0m in \u001b[0;36mtf__test_function\u001b[1;34m(iterator)\u001b[0m\n\u001b[0;32m     13\u001b[0m                 \u001b[1;32mtry\u001b[0m\u001b[1;33m:\u001b[0m\u001b[1;33m\u001b[0m\u001b[1;33m\u001b[0m\u001b[0m\n\u001b[0;32m     14\u001b[0m                     \u001b[0mdo_return\u001b[0m \u001b[1;33m=\u001b[0m \u001b[1;32mTrue\u001b[0m\u001b[1;33m\u001b[0m\u001b[1;33m\u001b[0m\u001b[0m\n\u001b[1;32m---> 15\u001b[1;33m                     \u001b[0mretval_\u001b[0m \u001b[1;33m=\u001b[0m \u001b[0mag__\u001b[0m\u001b[1;33m.\u001b[0m\u001b[0mconverted_call\u001b[0m\u001b[1;33m(\u001b[0m\u001b[0mag__\u001b[0m\u001b[1;33m.\u001b[0m\u001b[0mld\u001b[0m\u001b[1;33m(\u001b[0m\u001b[0mstep_function\u001b[0m\u001b[1;33m)\u001b[0m\u001b[1;33m,\u001b[0m \u001b[1;33m(\u001b[0m\u001b[0mag__\u001b[0m\u001b[1;33m.\u001b[0m\u001b[0mld\u001b[0m\u001b[1;33m(\u001b[0m\u001b[0mself\u001b[0m\u001b[1;33m)\u001b[0m\u001b[1;33m,\u001b[0m \u001b[0mag__\u001b[0m\u001b[1;33m.\u001b[0m\u001b[0mld\u001b[0m\u001b[1;33m(\u001b[0m\u001b[0miterator\u001b[0m\u001b[1;33m)\u001b[0m\u001b[1;33m)\u001b[0m\u001b[1;33m,\u001b[0m \u001b[1;32mNone\u001b[0m\u001b[1;33m,\u001b[0m \u001b[0mfscope\u001b[0m\u001b[1;33m)\u001b[0m\u001b[1;33m\u001b[0m\u001b[1;33m\u001b[0m\u001b[0m\n\u001b[0m\u001b[0;32m     16\u001b[0m                 \u001b[1;32mexcept\u001b[0m\u001b[1;33m:\u001b[0m\u001b[1;33m\u001b[0m\u001b[1;33m\u001b[0m\u001b[0m\n\u001b[0;32m     17\u001b[0m                     \u001b[0mdo_return\u001b[0m \u001b[1;33m=\u001b[0m \u001b[1;32mFalse\u001b[0m\u001b[1;33m\u001b[0m\u001b[1;33m\u001b[0m\u001b[0m\n",
      "\u001b[1;31mValueError\u001b[0m: in user code:\n\n    File \"C:\\Users\\conec\\anaconda3\\lib\\site-packages\\keras\\engine\\training.py\", line 1727, in test_function  *\n        return step_function(self, iterator)\n    File \"C:\\Users\\conec\\anaconda3\\lib\\site-packages\\keras\\engine\\training.py\", line 1713, in step_function  **\n        outputs = model.distribute_strategy.run(run_step, args=(data,))\n    File \"C:\\Users\\conec\\anaconda3\\lib\\site-packages\\keras\\engine\\training.py\", line 1701, in run_step  **\n        outputs = model.test_step(data)\n    File \"C:\\Users\\conec\\anaconda3\\lib\\site-packages\\keras\\engine\\training.py\", line 1667, in test_step\n        self.compute_loss(x, y, y_pred, sample_weight)\n    File \"C:\\Users\\conec\\anaconda3\\lib\\site-packages\\keras\\engine\\training.py\", line 1052, in compute_loss\n        return self.compiled_loss(\n    File \"C:\\Users\\conec\\anaconda3\\lib\\site-packages\\keras\\engine\\compile_utils.py\", line 265, in __call__\n        loss_value = loss_obj(y_t, y_p, sample_weight=sw)\n    File \"C:\\Users\\conec\\anaconda3\\lib\\site-packages\\keras\\losses.py\", line 152, in __call__\n        losses = call_fn(y_true, y_pred)\n    File \"C:\\Users\\conec\\anaconda3\\lib\\site-packages\\keras\\losses.py\", line 272, in call  **\n        return ag_fn(y_true, y_pred, **self._fn_kwargs)\n    File \"C:\\Users\\conec\\anaconda3\\lib\\site-packages\\keras\\losses.py\", line 1990, in categorical_crossentropy\n        return backend.categorical_crossentropy(\n    File \"C:\\Users\\conec\\anaconda3\\lib\\site-packages\\keras\\backend.py\", line 5529, in categorical_crossentropy\n        target.shape.assert_is_compatible_with(output.shape)\n\n    ValueError: Shapes (None, 2) and (None, 3) are incompatible\n"
     ]
    }
   ],
   "source": [
    "load_model(\"bidirectionalLSTMGRU_model.hdf5\",custom_objects={\"f1_score\":f1_score}).evaluate(comments,true_labels)"
   ]
  },
  {
   "cell_type": "code",
   "execution_count": 81,
   "id": "d9419ab0",
   "metadata": {},
   "outputs": [
    {
     "name": "stdout",
     "output_type": "stream",
     "text": [
      "4/4 [==============================] - 2s 5ms/step - loss: 1.1773 - accuracy: 0.4444\n"
     ]
    },
    {
     "data": {
      "text/plain": [
       "[1.1773388385772705, 0.4444444477558136]"
      ]
     },
     "execution_count": 81,
     "metadata": {},
     "output_type": "execute_result"
    }
   ],
   "source": [
    "load_model(\"CNNLSTM_model.hdf5\").evaluate(comments,true_labels)"
   ]
  },
  {
   "cell_type": "code",
   "execution_count": 82,
   "id": "da1a0bcf",
   "metadata": {},
   "outputs": [
    {
     "name": "stdout",
     "output_type": "stream",
     "text": [
      "4/4 [==============================] - 1s 55ms/step - loss: 1.9045 - accuracy: 0.5859\n"
     ]
    },
    {
     "data": {
      "text/plain": [
       "[1.90447998046875, 0.5858585834503174]"
      ]
     },
     "execution_count": 82,
     "metadata": {},
     "output_type": "execute_result"
    }
   ],
   "source": [
    "load_model(\"hyperpartric_model.hdf5\").evaluate(comments,true_labels)"
   ]
  },
  {
   "cell_type": "code",
   "execution_count": null,
   "id": "34ed3972",
   "metadata": {},
   "outputs": [],
   "source": []
  }
 ],
 "metadata": {
  "kernelspec": {
   "display_name": "Python 3 (ipykernel)",
   "language": "python",
   "name": "python3"
  },
  "language_info": {
   "codemirror_mode": {
    "name": "ipython",
    "version": 3
   },
   "file_extension": ".py",
   "mimetype": "text/x-python",
   "name": "python",
   "nbconvert_exporter": "python",
   "pygments_lexer": "ipython3",
   "version": "3.9.13"
  }
 },
 "nbformat": 4,
 "nbformat_minor": 5
}
