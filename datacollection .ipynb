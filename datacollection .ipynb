{
 "cells": [
  {
   "cell_type": "code",
   "execution_count": 24,
   "id": "320b04fb",
   "metadata": {},
   "outputs": [],
   "source": [
    "from itertools import islice\n",
    "from youtube_comment_downloader import *\n",
    "data={'comment':[]}\n",
    "def getcomments(link):\n",
    "    downloader = YoutubeCommentDownloader()\n",
    "    comments = downloader.get_comments_from_url(link, sort_by=SORT_BY_POPULAR)\n",
    "    for comment in islice(comments, 10000):\n",
    "        data['comment'].append(comment[\"text\"])"
   ]
  },
  {
   "cell_type": "code",
   "execution_count": 25,
   "id": "baadfd1a",
   "metadata": {},
   "outputs": [],
   "source": [
    "# getcomments(\"https://www.youtube.com/watch?v=-ETQ97mXXF0\")\n",
    "# getcomments(\"https://www.youtube.com/watch?v=ua-CiDNNj30\")\n",
    "# getcomments(\"https://www.youtube.com/watch?v=LHBE6Q9XlzI\")"
   ]
  },
  {
   "cell_type": "code",
   "execution_count": 26,
   "id": "9df97cdd",
   "metadata": {},
   "outputs": [],
   "source": [
    "getcomments(\"https://www.youtube.com/watch?v=kqtD5dpn9C8\")\n",
    "getcomments(\"https://www.youtube.com/watch?v=XKHEtdqhLK8\")"
   ]
  },
  {
   "cell_type": "code",
   "execution_count": 27,
   "id": "7dbb20f3",
   "metadata": {},
   "outputs": [],
   "source": [
    "# getcomments(\"https://www.youtube.com/watch?v=rfscVS0vtbw\")\n",
    "\n",
    "# getcomments(\"https://www.youtube.com/watch?v=WGJJIrtnfpk\")\n",
    "# getcomments(\"https://www.youtube.com/watch?v=nLRL_NcnK-4\")\n",
    "# getcomments(\"https://www.youtube.com/watch?v=rfscVS0vtbw\")"
   ]
  },
  {
   "cell_type": "code",
   "execution_count": 28,
   "id": "f54cebac",
   "metadata": {},
   "outputs": [
    {
     "data": {
      "text/plain": [
       "7214"
      ]
     },
     "execution_count": 28,
     "metadata": {},
     "output_type": "execute_result"
    }
   ],
   "source": [
    "len(data[\"comment\"])"
   ]
  },
  {
   "cell_type": "code",
   "execution_count": 32,
   "id": "ce8d11bc",
   "metadata": {},
   "outputs": [],
   "source": [
    "import pandas as pd\n",
    "df = pd.DataFrame(data, columns=['comment'])"
   ]
  },
  {
   "cell_type": "code",
   "execution_count": 33,
   "id": "567d33e6",
   "metadata": {},
   "outputs": [
    {
     "data": {
      "text/html": [
       "<div>\n",
       "<style scoped>\n",
       "    .dataframe tbody tr th:only-of-type {\n",
       "        vertical-align: middle;\n",
       "    }\n",
       "\n",
       "    .dataframe tbody tr th {\n",
       "        vertical-align: top;\n",
       "    }\n",
       "\n",
       "    .dataframe thead th {\n",
       "        text-align: right;\n",
       "    }\n",
       "</style>\n",
       "<table border=\"1\" class=\"dataframe\">\n",
       "  <thead>\n",
       "    <tr style=\"text-align: right;\">\n",
       "      <th></th>\n",
       "      <th>comment</th>\n",
       "    </tr>\n",
       "  </thead>\n",
       "  <tbody>\n",
       "    <tr>\n",
       "      <th>0</th>\n",
       "      <td>🔥 Want to master Python? Get my complete Pytho...</td>\n",
       "    </tr>\n",
       "    <tr>\n",
       "      <th>1</th>\n",
       "      <td>I'm learning because i want a better job than ...</td>\n",
       "    </tr>\n",
       "    <tr>\n",
       "      <th>2</th>\n",
       "      <td>Thanks Mosh! ❤ After struggling for 1 year wit...</td>\n",
       "    </tr>\n",
       "    <tr>\n",
       "      <th>3</th>\n",
       "      <td>0:00:00 Introduction \\r\\n0:00:30 What You Can ...</td>\n",
       "    </tr>\n",
       "    <tr>\n",
       "      <th>4</th>\n",
       "      <td>Ik he won’t see this, but this was such a clea...</td>\n",
       "    </tr>\n",
       "  </tbody>\n",
       "</table>\n",
       "</div>"
      ],
      "text/plain": [
       "                                             comment\n",
       "0  🔥 Want to master Python? Get my complete Pytho...\n",
       "1  I'm learning because i want a better job than ...\n",
       "2  Thanks Mosh! ❤ After struggling for 1 year wit...\n",
       "3  0:00:00 Introduction \\r\\n0:00:30 What You Can ...\n",
       "4  Ik he won’t see this, but this was such a clea..."
      ]
     },
     "execution_count": 33,
     "metadata": {},
     "output_type": "execute_result"
    }
   ],
   "source": [
    "df.head()"
   ]
  },
  {
   "cell_type": "code",
   "execution_count": 34,
   "id": "f811995b",
   "metadata": {},
   "outputs": [
    {
     "data": {
      "text/html": [
       "<div>\n",
       "<style scoped>\n",
       "    .dataframe tbody tr th:only-of-type {\n",
       "        vertical-align: middle;\n",
       "    }\n",
       "\n",
       "    .dataframe tbody tr th {\n",
       "        vertical-align: top;\n",
       "    }\n",
       "\n",
       "    .dataframe thead th {\n",
       "        text-align: right;\n",
       "    }\n",
       "</style>\n",
       "<table border=\"1\" class=\"dataframe\">\n",
       "  <thead>\n",
       "    <tr style=\"text-align: right;\">\n",
       "      <th></th>\n",
       "      <th>comment</th>\n",
       "    </tr>\n",
       "  </thead>\n",
       "  <tbody>\n",
       "    <tr>\n",
       "      <th>count</th>\n",
       "      <td>7214</td>\n",
       "    </tr>\n",
       "    <tr>\n",
       "      <th>unique</th>\n",
       "      <td>6962</td>\n",
       "    </tr>\n",
       "    <tr>\n",
       "      <th>top</th>\n",
       "      <td>Can you please advise how do i access the code...</td>\n",
       "    </tr>\n",
       "    <tr>\n",
       "      <th>freq</th>\n",
       "      <td>18</td>\n",
       "    </tr>\n",
       "  </tbody>\n",
       "</table>\n",
       "</div>"
      ],
      "text/plain": [
       "                                                  comment\n",
       "count                                                7214\n",
       "unique                                               6962\n",
       "top     Can you please advise how do i access the code...\n",
       "freq                                                   18"
      ]
     },
     "execution_count": 34,
     "metadata": {},
     "output_type": "execute_result"
    }
   ],
   "source": [
    "df.describe()"
   ]
  },
  {
   "cell_type": "code",
   "execution_count": 35,
   "id": "5845ef28",
   "metadata": {},
   "outputs": [],
   "source": [
    "df.drop_duplicates(inplace=True)"
   ]
  },
  {
   "cell_type": "code",
   "execution_count": 36,
   "id": "b7795705",
   "metadata": {},
   "outputs": [
    {
     "data": {
      "text/html": [
       "<div>\n",
       "<style scoped>\n",
       "    .dataframe tbody tr th:only-of-type {\n",
       "        vertical-align: middle;\n",
       "    }\n",
       "\n",
       "    .dataframe tbody tr th {\n",
       "        vertical-align: top;\n",
       "    }\n",
       "\n",
       "    .dataframe thead th {\n",
       "        text-align: right;\n",
       "    }\n",
       "</style>\n",
       "<table border=\"1\" class=\"dataframe\">\n",
       "  <thead>\n",
       "    <tr style=\"text-align: right;\">\n",
       "      <th></th>\n",
       "      <th>comment</th>\n",
       "    </tr>\n",
       "  </thead>\n",
       "  <tbody>\n",
       "    <tr>\n",
       "      <th>count</th>\n",
       "      <td>6962</td>\n",
       "    </tr>\n",
       "    <tr>\n",
       "      <th>unique</th>\n",
       "      <td>6962</td>\n",
       "    </tr>\n",
       "    <tr>\n",
       "      <th>top</th>\n",
       "      <td>🔥 Want to master Python? Get my complete Pytho...</td>\n",
       "    </tr>\n",
       "    <tr>\n",
       "      <th>freq</th>\n",
       "      <td>1</td>\n",
       "    </tr>\n",
       "  </tbody>\n",
       "</table>\n",
       "</div>"
      ],
      "text/plain": [
       "                                                  comment\n",
       "count                                                6962\n",
       "unique                                               6962\n",
       "top     🔥 Want to master Python? Get my complete Pytho...\n",
       "freq                                                    1"
      ]
     },
     "execution_count": 36,
     "metadata": {},
     "output_type": "execute_result"
    }
   ],
   "source": [
    "df.describe()"
   ]
  },
  {
   "cell_type": "code",
   "execution_count": 37,
   "id": "259d03f7",
   "metadata": {},
   "outputs": [],
   "source": [
    "df.to_csv(\"final_dataset\")"
   ]
  },
  {
   "cell_type": "code",
   "execution_count": 6,
   "id": "47ff9aa7",
   "metadata": {},
   "outputs": [],
   "source": [
    "# import nltk\n",
    "# nltk.download('vader_lexicon')\n",
    "# from nltk.sentiment.vader import SentimentIntensityAnalyzer\n",
    "# sid = SentimentIntensityAnalyzer()"
   ]
  },
  {
   "cell_type": "code",
   "execution_count": 7,
   "id": "0c1cd24d",
   "metadata": {},
   "outputs": [],
   "source": [
    "# sid.polarity_scores(\"happy\")\n"
   ]
  },
  {
   "cell_type": "code",
   "execution_count": null,
   "id": "028d3cae",
   "metadata": {},
   "outputs": [],
   "source": [
    "\n"
   ]
  },
  {
   "cell_type": "code",
   "execution_count": null,
   "id": "b7fc1be3",
   "metadata": {},
   "outputs": [],
   "source": []
  }
 ],
 "metadata": {
  "kernelspec": {
   "display_name": "Python 3 (ipykernel)",
   "language": "python",
   "name": "python3"
  },
  "language_info": {
   "codemirror_mode": {
    "name": "ipython",
    "version": 3
   },
   "file_extension": ".py",
   "mimetype": "text/x-python",
   "name": "python",
   "nbconvert_exporter": "python",
   "pygments_lexer": "ipython3",
   "version": "3.9.13"
  }
 },
 "nbformat": 4,
 "nbformat_minor": 5
}
